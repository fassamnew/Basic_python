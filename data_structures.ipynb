{
 "cells": [
  {
   "cell_type": "markdown",
   "metadata": {},
   "source": [
    "Data Structures:\n",
    "Lists"
   ]
  },
  {
   "cell_type": "code",
   "execution_count": 8,
   "metadata": {},
   "outputs": [
    {
     "name": "stdout",
     "output_type": "stream",
     "text": [
      "apple\n",
      "apple\n"
     ]
    }
   ],
   "source": [
    "#creating a list occurs like is\n",
    "fruits=[\"apple\",'banana',\"cherry\",1234, True]\n",
    "\n",
    "print(fruits[0])\n",
    "print(fruits[-5])"
   ]
  },
  {
   "cell_type": "code",
   "execution_count": 9,
   "metadata": {},
   "outputs": [
    {
     "name": "stdout",
     "output_type": "stream",
     "text": [
      "apple\n",
      "Papaya\n",
      "['apple', 'banana', 'Papaya', 'cherry', 1234, True, 'Oranges']\n"
     ]
    }
   ],
   "source": [
    "fruits.append(\"Oranges\")\n",
    "fruits.insert(2,\"Papaya\")\n",
    "\n",
    "print(fruits[0])\n",
    "print(fruits[-5])\n",
    "print(fruits)"
   ]
  },
  {
   "cell_type": "code",
   "execution_count": 10,
   "metadata": {},
   "outputs": [
    {
     "name": "stdout",
     "output_type": "stream",
     "text": [
      "apple\n",
      "apple\n",
      "['apple', 'banana', 'cherry', 1234, True]\n"
     ]
    }
   ],
   "source": [
    "fruits.remove(\"Papaya\")\n",
    "fruits.pop()\n",
    "print(fruits[0])\n",
    "print(fruits[-5])\n",
    "print(fruits)"
   ]
  },
  {
   "cell_type": "code",
   "execution_count": 13,
   "metadata": {},
   "outputs": [
    {
     "name": "stdout",
     "output_type": "stream",
     "text": [
      "apple\n",
      "apple\n",
      "['apple', 'Guava', 'cherry', 1234, True]\n",
      "['Guava', 'cherry']\n"
     ]
    }
   ],
   "source": [
    "fruits[1]=\"Guava\"\n",
    "newFruits=fruits[1:3] # two elements\n",
    "print(fruits[0])\n",
    "print(fruits[-5])\n",
    "print(fruits)\n",
    "print(newFruits)"
   ]
  },
  {
   "cell_type": "code",
   "execution_count": 14,
   "metadata": {},
   "outputs": [
    {
     "name": "stdout",
     "output_type": "stream",
     "text": [
      "apple\n",
      "Guava\n",
      "cherry\n",
      "1234\n",
      "True\n"
     ]
    }
   ],
   "source": [
    "for fruit in fruits:\n",
    "    print(fruit)"
   ]
  },
  {
   "cell_type": "code",
   "execution_count": 17,
   "metadata": {},
   "outputs": [
    {
     "name": "stdout",
     "output_type": "stream",
     "text": [
      "First transaction: 200\n",
      "Last transaction: -10\n",
      "Transactions # 1 :  200\n",
      "Transactions # 2 :  100\n",
      "Transactions # 3 :  -20\n",
      "Transactions # 4 :  300\n",
      "Transactions # 5 :  -10\n"
     ]
    }
   ],
   "source": [
    "# Initializing a list of transactions\n",
    "transactions = [200, -50, 100, -20, 300] # positive for deposits, negative for withdrawals\n",
    "# Adding a new transaction\n",
    "transactions.append(-10)\n",
    "# Removing a transaction (first instance of -50)\n",
    "transactions.remove(-50)\n",
    "# Accessing transactions\n",
    "print(\"First transaction:\", transactions[0]) #\n",
    "print(\"Last transaction:\", transactions[-1]) #\n",
    "\n",
    "i=0\n",
    "for txn in transactions:\n",
    "    i+=1\n",
    "    print(\"Transactions #\",i,\": \",txn)"
   ]
  },
  {
   "cell_type": "code",
   "execution_count": 18,
   "metadata": {},
   "outputs": [
    {
     "name": "stdout",
     "output_type": "stream",
     "text": [
      "Customer Name: Fitsum Assamnew\n",
      "Account Type: Savings\n",
      "Account Number: 123456\n"
     ]
    }
   ],
   "source": [
    "# Tuple representing a customer's information\n",
    "customer_info = (\"Fitsum Assamnew\", 123456, \"Savings\")\n",
    "# Accessing data\n",
    "name = customer_info[0]\n",
    "account_number=customer_info[1]\n",
    "account_type = customer_info[2]\n",
    "\n",
    "print(f\"Customer Name: {name}\")\n",
    "print(f\"Account Type: {account_type}\")\n",
    "print(\"Account Number:\", account_number)"
   ]
  },
  {
   "cell_type": "code",
   "execution_count": 20,
   "metadata": {},
   "outputs": [
    {
     "name": "stdout",
     "output_type": "stream",
     "text": [
      "Balance: Account not found\n",
      "Updated Balance: 2000.0\n"
     ]
    }
   ],
   "source": [
    "# Dictionary of customer balances\n",
    "customer_balances = {\n",
    "123456: 1500.0, # account number: balance\n",
    "789012: 300.0,\n",
    "345678: 0.0\n",
    "}\n",
    "# Accessing balance\n",
    "account_number = 123457\n",
    "print(\"Balance:\", customer_balances.get(account_number,\"Account not found\"))\n",
    "# Updating balance after a deposit\n",
    "customer_balances[123456] += 500.0 # adds $500 to the balance\n",
    "print(\"Updated Balance:\", customer_balances[123456])"
   ]
  },
  {
   "cell_type": "code",
   "execution_count": 21,
   "metadata": {},
   "outputs": [
    {
     "name": "stdout",
     "output_type": "stream",
     "text": [
      "The color of orange is  orange\n"
     ]
    }
   ],
   "source": [
    "fruitColors={\n",
    "    \"orange\": \"orange\",\n",
    "    \"banana\": \"Yellow\",\n",
    "    \"apple\" : \"Red\",\n",
    "    \"Guava\" : \"Lime green\"\n",
    "}\n",
    "\n",
    "print(\"The color of orange is \", fruitColors[\"apple\"])\n"
   ]
  }
 ],
 "metadata": {
  "kernelspec": {
   "display_name": "Python 3",
   "language": "python",
   "name": "python3"
  },
  "language_info": {
   "codemirror_mode": {
    "name": "ipython",
    "version": 3
   },
   "file_extension": ".py",
   "mimetype": "text/x-python",
   "name": "python",
   "nbconvert_exporter": "python",
   "pygments_lexer": "ipython3",
   "version": "3.10.6"
  }
 },
 "nbformat": 4,
 "nbformat_minor": 2
}

{
 "cells": [
  {
   "cell_type": "code",
   "execution_count": 11,
   "metadata": {},
   "outputs": [
    {
     "name": "stdout",
     "output_type": "stream",
     "text": [
      "[0, 4, 16, 36, 64, 100, 144, 196, 256, 324]\n"
     ]
    }
   ],
   "source": [
    "def square(x):\n",
    "    return x**2\n",
    "squares = [square(x) for x in range(20) if x%2 == 0]\n",
    "\n",
    "print(squares)"
   ]
  },
  {
   "cell_type": "code",
   "execution_count": 5,
   "metadata": {},
   "outputs": [
    {
     "name": "stdout",
     "output_type": "stream",
     "text": [
      "['HELLO', 'WORLD', 'PYHTON']\n"
     ]
    }
   ],
   "source": [
    "words=[\"hello\", \"world\", \"pyhton\"]\n",
    "uppercased=[word.upper() for word in words]\n",
    "print(uppercased)"
   ]
  },
  {
   "cell_type": "code",
   "execution_count": 6,
   "metadata": {},
   "outputs": [
    {
     "name": "stdout",
     "output_type": "stream",
     "text": [
      "[(0, 0), (0, 1), (0, 2), (1, 0), (1, 1), (1, 2), (2, 0), (2, 1), (2, 2), (3, 0), (3, 1), (3, 2), (4, 0), (4, 1), (4, 2)]\n",
      "[(0, 0), (0, 1), (0, 2), (1, 0), (1, 1), (1, 2), (2, 0), (2, 1), (2, 2), (3, 0), (3, 1), (3, 2), (4, 0), (4, 1), (4, 2)]\n"
     ]
    }
   ],
   "source": [
    "pairs = [(x,y) for x in range(5) for y in range(3)]\n",
    "print(pairs)\n",
    "pairs2= []\n",
    "for x in range(5):\n",
    "    for y in range(3):\n",
    "        pairs2.append((x,y))\n",
    "\n",
    "print(pairs2)"
   ]
  },
  {
   "cell_type": "code",
   "execution_count": 8,
   "metadata": {},
   "outputs": [
    {
     "name": "stdout",
     "output_type": "stream",
     "text": [
      "['even', 'odd', 'even', 'odd', 'even', 'odd', 'even', 'odd', 'even', 'odd', 'even', 'odd', 'even', 'odd', 'even']\n"
     ]
    }
   ],
   "source": [
    "parity = [\"even\" if x%2==0 else \"odd\" for x in range(15)]\n",
    "print(parity)"
   ]
  },
  {
   "cell_type": "code",
   "execution_count": 12,
   "metadata": {},
   "outputs": [
    {
     "name": "stdout",
     "output_type": "stream",
     "text": [
      "[1, 2, 3, 4, 5, 6, 7, 8, 9]\n",
      "[1, 2, 3, 4, 5, 6, 7, 8, 9]\n"
     ]
    }
   ],
   "source": [
    "nestedList = [[1,2,3], [4,5], [6,7,8,9]]\n",
    "flattend = [item for sublist in nestedList for item in sublist]\n",
    "print(flattend)\n",
    "\n",
    "nestedList2 = []\n",
    "for sublist in nestedList:\n",
    "    for item in sublist:\n",
    "        nestedList2.append(item)\n",
    "print(nestedList2)"
   ]
  },
  {
   "cell_type": "code",
   "execution_count": 16,
   "metadata": {},
   "outputs": [
    {
     "name": "stdout",
     "output_type": "stream",
     "text": [
      "highTransactions:  [700, 500, 900]\n",
      "[1070.0, 1605.0, 2140.0, 2675.0]\n"
     ]
    }
   ],
   "source": [
    "transactions = [300, 700, 250, 500, 900]\n",
    "\n",
    "highTransactions = [x for x in transactions if x>= 500]\n",
    "\n",
    "print(\"highTransactions: \", highTransactions )\n",
    "\n",
    "balances = [1000, 1500,2000, 2500]\n",
    "final_balances = [x+(x*0.07) for x in balances]\n",
    "\n",
    "print (final_balances)"
   ]
  },
  {
   "cell_type": "code",
   "execution_count": 17,
   "metadata": {},
   "outputs": [
    {
     "name": "stdout",
     "output_type": "stream",
     "text": [
      "[200, 300, 150]\n"
     ]
    }
   ],
   "source": [
    "customer_transactions = {\n",
    "\"Alice\": [200, 300, 150],\n",
    "\"Bob\": [400, 500, 100]\n",
    "}\n",
    "# Accessing Alice's transactions\n",
    "alice_transactions = customer_transactions[\"Alice\"]\n",
    "print(alice_transactions)\n",
    "# Output: [200, 300, 150]"
   ]
  },
  {
   "cell_type": "code",
   "execution_count": 19,
   "metadata": {},
   "outputs": [
    {
     "name": "stdout",
     "output_type": "stream",
     "text": [
      "Alice\n"
     ]
    }
   ],
   "source": [
    "customers = [\n",
    "{\"name\": \"Alice\", \"balance\": 500},\n",
    "{\"name\": \"Bob\", \"balance\": 1000}\n",
    "]\n",
    "# Accessing the balance of the first customer\n",
    "alice_balance = customers[0][\"name\"]\n",
    "print(alice_balance)"
   ]
  }
 ],
 "metadata": {
  "kernelspec": {
   "display_name": "Python 3",
   "language": "python",
   "name": "python3"
  },
  "language_info": {
   "codemirror_mode": {
    "name": "ipython",
    "version": 3
   },
   "file_extension": ".py",
   "mimetype": "text/x-python",
   "name": "python",
   "nbconvert_exporter": "python",
   "pygments_lexer": "ipython3",
   "version": "3.10.6"
  }
 },
 "nbformat": 4,
 "nbformat_minor": 2
}
